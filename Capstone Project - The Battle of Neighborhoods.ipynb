{
 "nbformat": 4,
 "nbformat_minor": 2,
 "metadata": {
  "language_info": {
   "name": "python",
   "codemirror_mode": {
    "name": "ipython",
    "version": 3
   }
  },
  "orig_nbformat": 2,
  "file_extension": ".py",
  "mimetype": "text/x-python",
  "name": "python",
  "npconvert_exporter": "python",
  "pygments_lexer": "ipython3",
  "version": 3
 },
 "cells": [
  {
   "cell_type": "markdown",
   "execution_count": null,
   "metadata": {},
   "outputs": [],
   "source": [
    "# Choosing the most convenient Neighbourhood of Bengaluru"
   ]
  },
  {
   "cell_type": "markdown",
   "execution_count": null,
   "metadata": {},
   "outputs": [],
   "source": [
    "## Introduction/Business Problem"
   ]
  },
  {
   "cell_type": "markdown",
   "execution_count": null,
   "metadata": {},
   "outputs": [],
   "source": [
    "One of the major problem faced by people when they are thinking of switching cities is choosing the neighbourhood to stay/live in that particular city. There are couple of bigger factors like Comfort, Convenience, and saftey.\n",
    "\n",
    "Here in this particular notebook we will be analyzing the neighbourhood in Bengaluru City of Karnataka, India to figure out the best neighbourhood in this particular city based on Convenience  of  people."
   ]
  },
  {
   "cell_type": "code",
   "execution_count": 1,
   "metadata": {},
   "outputs": [
    {
     "name": "stdout",
     "output_type": "stream",
     "text": "Requirement already satisfied: beautifulsoup4 in /home/kuliza-472/anaconda3/envs/IBM-CAPSTONE/lib/python3.7/site-packages (4.8.1)\nRequirement already satisfied: soupsieve>=1.2 in /home/kuliza-472/anaconda3/envs/IBM-CAPSTONE/lib/python3.7/site-packages (from beautifulsoup4) (1.9.3)\nRequirement already satisfied: geocoder in /home/kuliza-472/anaconda3/envs/IBM-CAPSTONE/lib/python3.7/site-packages (1.38.1)\nRequirement already satisfied: six in /home/kuliza-472/anaconda3/envs/IBM-CAPSTONE/lib/python3.7/site-packages (from geocoder) (1.12.0)\nRequirement already satisfied: requests in /home/kuliza-472/anaconda3/envs/IBM-CAPSTONE/lib/python3.7/site-packages (from geocoder) (2.22.0)\nRequirement already satisfied: click in /home/kuliza-472/anaconda3/envs/IBM-CAPSTONE/lib/python3.7/site-packages (from geocoder) (7.0)\nRequirement already satisfied: ratelim in /home/kuliza-472/anaconda3/envs/IBM-CAPSTONE/lib/python3.7/site-packages (from geocoder) (0.1.6)\nRequirement already satisfied: future in /home/kuliza-472/anaconda3/envs/IBM-CAPSTONE/lib/python3.7/site-packages (from geocoder) (0.18.2)\nRequirement already satisfied: urllib3!=1.25.0,!=1.25.1,<1.26,>=1.21.1 in /home/kuliza-472/anaconda3/envs/IBM-CAPSTONE/lib/python3.7/site-packages (from requests->geocoder) (1.24.2)\nRequirement already satisfied: idna<2.9,>=2.5 in /home/kuliza-472/anaconda3/envs/IBM-CAPSTONE/lib/python3.7/site-packages (from requests->geocoder) (2.8)\nRequirement already satisfied: chardet<3.1.0,>=3.0.2 in /home/kuliza-472/anaconda3/envs/IBM-CAPSTONE/lib/python3.7/site-packages (from requests->geocoder) (3.0.4)\nRequirement already satisfied: certifi>=2017.4.17 in /home/kuliza-472/anaconda3/envs/IBM-CAPSTONE/lib/python3.7/site-packages (from requests->geocoder) (2019.9.11)\nRequirement already satisfied: decorator in /home/kuliza-472/anaconda3/envs/IBM-CAPSTONE/lib/python3.7/site-packages (from ratelim->geocoder) (4.4.1)\nRequirement already satisfied: folium in /home/kuliza-472/anaconda3/envs/IBM-CAPSTONE/lib/python3.7/site-packages (0.10.0)\nRequirement already satisfied: requests in /home/kuliza-472/anaconda3/envs/IBM-CAPSTONE/lib/python3.7/site-packages (from folium) (2.22.0)\nRequirement already satisfied: jinja2>=2.9 in /home/kuliza-472/anaconda3/envs/IBM-CAPSTONE/lib/python3.7/site-packages (from folium) (2.10.3)\nRequirement already satisfied: branca>=0.3.0 in /home/kuliza-472/anaconda3/envs/IBM-CAPSTONE/lib/python3.7/site-packages (from folium) (0.3.1)\nRequirement already satisfied: numpy in /home/kuliza-472/anaconda3/envs/IBM-CAPSTONE/lib/python3.7/site-packages (from folium) (1.17.2)\nRequirement already satisfied: certifi>=2017.4.17 in /home/kuliza-472/anaconda3/envs/IBM-CAPSTONE/lib/python3.7/site-packages (from requests->folium) (2019.9.11)\nRequirement already satisfied: chardet<3.1.0,>=3.0.2 in /home/kuliza-472/anaconda3/envs/IBM-CAPSTONE/lib/python3.7/site-packages (from requests->folium) (3.0.4)\nRequirement already satisfied: urllib3!=1.25.0,!=1.25.1,<1.26,>=1.21.1 in /home/kuliza-472/anaconda3/envs/IBM-CAPSTONE/lib/python3.7/site-packages (from requests->folium) (1.24.2)\nRequirement already satisfied: idna<2.9,>=2.5 in /home/kuliza-472/anaconda3/envs/IBM-CAPSTONE/lib/python3.7/site-packages (from requests->folium) (2.8)\nRequirement already satisfied: MarkupSafe>=0.23 in /home/kuliza-472/anaconda3/envs/IBM-CAPSTONE/lib/python3.7/site-packages (from jinja2>=2.9->folium) (1.1.1)\nRequirement already satisfied: six in /home/kuliza-472/anaconda3/envs/IBM-CAPSTONE/lib/python3.7/site-packages (from branca>=0.3.0->folium) (1.12.0)\n"
    }
   ],
   "source": [
    "# installing dependencies\n",
    "!pip install beautifulsoup4\n",
    "!pip install geocoder\n",
    "!pip install folium\n",
    "\n",
    "# importing dependencies\n",
    "import requests\n",
    "from bs4 import BeautifulSoup\n",
    "import pandas as pd\n",
    "import folium"
   ]
  },
  {
   "cell_type": "markdown",
   "execution_count": null,
   "metadata": {},
   "outputs": [],
   "source": [
    "scraping data required from webpage"
   ]
  },
  {
   "cell_type": "code",
   "execution_count": 145,
   "metadata": {},
   "outputs": [],
   "source": [
    "page = requests.get(\"https://www.indiatvnews.com/pincode/karnataka/bangalore\")\n",
    "soup = BeautifulSoup(page.content, 'html.parser')\n",
    "table = soup.find('table', class_='alt')\n",
    "table_rows = table.find_all('tr')"
   ]
  },
  {
   "cell_type": "markdown",
   "execution_count": null,
   "metadata": {},
   "outputs": [],
   "source": [
    "Converting scraped data into dataframe"
   ]
  },
  {
   "cell_type": "code",
   "execution_count": 146,
   "metadata": {},
   "outputs": [],
   "source": [
    "# this array will hold the table data\n",
    "temp = []\n",
    "\n",
    "# adding invidual subarrays for each table array\n",
    "for tr in table_rows:\n",
    "    td = tr.find_all('td')\n",
    "    row = [d.text.strip() for d in td]\n",
    "    \n",
    "    if row and row[1] != \"NA\":\n",
    "        temp.append(row)"
   ]
  },
  {
   "cell_type": "markdown",
   "execution_count": 8,
   "metadata": {},
   "outputs": [
    {
     "ename": "SyntaxError",
     "evalue": "invalid syntax (<ipython-input-8-c34900308d1f>, line 1)",
     "output_type": "error",
     "traceback": [
      "\u001b[0;36m  File \u001b[0;32m\"<ipython-input-8-c34900308d1f>\"\u001b[0;36m, line \u001b[0;32m1\u001b[0m\n\u001b[0;31m    converting array with stored data into dataframe\u001b[0m\n\u001b[0m                   ^\u001b[0m\n\u001b[0;31mSyntaxError\u001b[0m\u001b[0;31m:\u001b[0m invalid syntax\n"
     ]
    }
   ],
   "source": [
    "converting array with stored data into dataframe"
   ]
  },
  {
   "cell_type": "code",
   "execution_count": 147,
   "metadata": {},
   "outputs": [
    {
     "name": "stdout",
     "output_type": "stream",
     "text": "(259, 3)\n            Neighbourhood          Borough Pincode\n1                   Agram  Bangalore South  560007\n2      Air Force Hospital  Bangalore North  560007\n3            Amruthahalli  Bangalore North  560092\n4    Anandnagar Bangalore  Bangalore North  560024\n5          Arabic College  Bangalore North  560045\n..                    ...              ...     ...\n255  Tavarekere Bangalore   Bangaloresouth  562130\n256   Thammanayakanahalli           Anekal  562106\n257         Vanakanahalli           Anekal  562106\n258           Vidyanagara         Bg North  562157\n259         Yadavanahalli           Anekal  562107\n\n[259 rows x 3 columns]\n"
    }
   ],
   "source": [
    "# creating dataframe out of mentioned array\n",
    "df = pd.DataFrame(data=temp, columns=['Neighbourhood', 'Borough', 'District', 'State', 'Pincode'])\n",
    "df = df.drop(['District', 'State'], axis=1)\n",
    "df = df.iloc[1:]\n",
    "print(df.shape)\n",
    "print(df)"
   ]
  },
  {
   "cell_type": "markdown",
   "execution_count": null,
   "metadata": {},
   "outputs": [],
   "source": [
    "As certain Boroughs are misspelled so we will be correcting it in next step and then we will be choosing only 3 Boroughs to work on, i.e Bangalore South and North. Other Borough lies in outskirts of District"
   ]
  },
  {
   "cell_type": "code",
   "execution_count": 148,
   "metadata": {},
   "outputs": [],
   "source": [
    "df['Borough'] = df['Borough'].replace(['Bangalore North', 'Bangalore north', 'Banglorenorth', 'Bg North', 'Bgnorth'], 'Bangalore North')\n",
    "\n",
    "df['Borough'] = df['Borough'].replace(['Bangalore South', 'Bangaloresouth', 'Bg South', 'Bgsouth', 'Nla & Bgsouth'], 'Bangalore South')\n",
    "\n",
    "df['Borough'] = df['Borough'].replace(['Bangalore', 'Banglore'], 'Bangalore')\n",
    "\n",
    "df = df[df['Borough'].isin([\"Bangalore South\", \"Bangalore North\"])]"
   ]
  },
  {
   "cell_type": "markdown",
   "execution_count": null,
   "metadata": {},
   "outputs": [],
   "source": [
    "We also noticed there are neighbourhood with common pincode, they should be merged together and get sepreated by commas"
   ]
  },
  {
   "cell_type": "code",
   "execution_count": 149,
   "metadata": {},
   "outputs": [
    {
     "name": "stdout",
     "output_type": "stream",
     "text": "Shape of grouped neighbourhood (100, 1)\n                                             Neighbourhood\nPincode                                                   \n560001   Bangalore Bazaar,Dr. Ambedkar Veedhi,HighCourt...\n560002       Bangalore Corporation Building,Bangalore City\n560003   Malleswaram,Palace Guttahalli,Swimming Pool Ex...\n560004             Basavanagudi,Mavalli,Pampamahakavi Road\n560005                                         Fraser Town\n...                                                    ...\n560109                                     Thalaghattapura\n562130   Chikkanahalli,Chunchanakuppe,Kadabagere,Tavare...\n562149           Bagalur Bangalore,Bandikodigehalli,Kannur\n562157   Bettahalsur,Chikkajala,Doddajala,Hunasamaranah...\n562162                        Dasanapura,Madanayakanahalli\n\n[100 rows x 1 columns]\n"
    }
   ],
   "source": [
    "# grouping neighbourhood with common pincode\n",
    "tempNeighbourhoodDf = df.groupby('Pincode')['Neighbourhood'].apply(','.join).reset_index().set_index('Pincode')\n",
    "print('Shape of grouped neighbourhood', tempNeighbourhoodDf.shape)\n",
    "print(tempNeighbourhoodDf)"
   ]
  },
  {
   "cell_type": "code",
   "execution_count": 150,
   "metadata": {},
   "outputs": [
    {
     "name": "stdout",
     "output_type": "stream",
     "text": "(100, 1)\n"
    },
    {
     "data": {
      "text/html": "<div>\n<style scoped>\n    .dataframe tbody tr th:only-of-type {\n        vertical-align: middle;\n    }\n\n    .dataframe tbody tr th {\n        vertical-align: top;\n    }\n\n    .dataframe thead th {\n        text-align: right;\n    }\n</style>\n<table border=\"1\" class=\"dataframe\">\n  <thead>\n    <tr style=\"text-align: right;\">\n      <th></th>\n      <th>Borough</th>\n    </tr>\n    <tr>\n      <th>Pincode</th>\n      <th></th>\n    </tr>\n  </thead>\n  <tbody>\n    <tr>\n      <th>560007</th>\n      <td>Bangalore South</td>\n    </tr>\n    <tr>\n      <th>560092</th>\n      <td>Bangalore North</td>\n    </tr>\n    <tr>\n      <th>560024</th>\n      <td>Bangalore North</td>\n    </tr>\n    <tr>\n      <th>560045</th>\n      <td>Bangalore North</td>\n    </tr>\n    <tr>\n      <th>560064</th>\n      <td>Bangalore North</td>\n    </tr>\n    <tr>\n      <th>...</th>\n      <td>...</td>\n    </tr>\n    <tr>\n      <th>560022</th>\n      <td>Bangalore North</td>\n    </tr>\n    <tr>\n      <th>562149</th>\n      <td>Bangalore North</td>\n    </tr>\n    <tr>\n      <th>562157</th>\n      <td>Bangalore North</td>\n    </tr>\n    <tr>\n      <th>562130</th>\n      <td>Bangalore South</td>\n    </tr>\n    <tr>\n      <th>562162</th>\n      <td>Bangalore North</td>\n    </tr>\n  </tbody>\n</table>\n<p>100 rows Ãƒâ€” 1 columns</p>\n</div>",
      "text/plain": "                 Borough\nPincode                 \n560007   Bangalore South\n560092   Bangalore North\n560024   Bangalore North\n560045   Bangalore North\n560064   Bangalore North\n...                  ...\n560022   Bangalore North\n562149   Bangalore North\n562157   Bangalore North\n562130   Bangalore South\n562162   Bangalore North\n\n[100 rows x 1 columns]"
     },
     "execution_count": 150,
     "metadata": {},
     "output_type": "execute_result"
    }
   ],
   "source": [
    "# grouping borough on basis of pincode\n",
    "tempBoroughDf = df.drop('Neighbourhood', axis=1).drop_duplicates('Pincode', 'first').set_index('Pincode')\n",
    "print(tempBoroughDf.shape)\n",
    "tempBoroughDf"
   ]
  },
  {
   "cell_type": "markdown",
   "execution_count": null,
   "metadata": {},
   "outputs": [],
   "source": [
    "Print shape and dataframe for understanding"
   ]
  },
  {
   "cell_type": "code",
   "execution_count": 156,
   "metadata": {},
   "outputs": [
    {
     "name": "stdout",
     "output_type": "stream",
     "text": "(100, 2)\n                                             Neighbourhood          Borough\nPincode                                                                    \n560001   Bangalore Bazaar,Dr. Ambedkar Veedhi,HighCourt...  Bangalore North\n560002       Bangalore Corporation Building,Bangalore City  Bangalore South\n560003   Malleswaram,Palace Guttahalli,Swimming Pool Ex...  Bangalore North\n560004             Basavanagudi,Mavalli,Pampamahakavi Road  Bangalore South\n560005                                         Fraser Town  Bangalore North\n"
    }
   ],
   "source": [
    "# merging both tempNeighbourhoodDf & tempBoroughDf\n",
    "df = tempNeighbourhoodDf.join(tempBoroughDf)\n",
    "print(df.shape)\n",
    "print(df.head())"
   ]
  },
  {
   "cell_type": "markdown",
   "execution_count": null,
   "metadata": {},
   "outputs": [],
   "source": [
    "Now we have succesfully created our dataframe which we need for analysing neighbourhood"
   ]
  },
  {
   "cell_type": "code",
   "execution_count": null,
   "metadata": {},
   "outputs": [],
   "source": []
  }
 ]
}