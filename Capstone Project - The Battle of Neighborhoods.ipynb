{
 "nbformat": 4,
 "nbformat_minor": 2,
 "metadata": {
  "language_info": {
   "name": "python",
   "codemirror_mode": {
    "name": "ipython",
    "version": 3
   },
   "version": "3.7.5"
  },
  "orig_nbformat": 2,
  "file_extension": ".py",
  "mimetype": "text/x-python",
  "name": "python",
  "npconvert_exporter": "python",
  "pygments_lexer": "ipython3",
  "version": 3
 },
 "cells": [
  {
   "cell_type": "markdown",
   "execution_count": null,
   "metadata": {},
   "outputs": [],
   "source": [
    "# Choosing the most convenient Neighbourhood of Bengaluru"
   ]
  },
  {
   "cell_type": "markdown",
   "execution_count": null,
   "metadata": {},
   "outputs": [],
   "source": [
    "## Introduction/Business Problem"
   ]
  },
  {
   "cell_type": "markdown",
   "execution_count": null,
   "metadata": {},
   "outputs": [],
   "source": [
    "One of the major problem faced by people when they are thinking of switching cities is choosing the neighbourhood to stay/live in that particular city. There are couple of bigger factors like Comfort, Convenience, and saftey.\n",
    "\n",
    "Here in this particular notebook we will be analyzing the neighbourhood in Bengaluru City of Karnataka, India to figure out the best neighbourhood in this particular city based on Convenience  of  people."
   ]
  },
  {
   "cell_type": "markdown",
   "execution_count": null,
   "metadata": {},
   "outputs": [],
   "source": [
    "## Data Description\n",
    "\n",
    "Here for this report we will be using data set for neighbourhood fetched from foursquare loaction api's. But to get data about Boroughs, PinCode, and Neighbourhood we will scraping this data from a webpage(https://www.indiatvnews.com/pincode/karnataka/bangalore) to create our own dataset."
   ]
  },
  {
   "cell_type": "code",
   "execution_count": 2,
   "metadata": {},
   "outputs": [
    {
     "name": "stdout",
     "output_type": "stream",
     "text": "Requirement already satisfied: beautifulsoup4 in /home/kuliza-472/anaconda3/envs/IBM-CAPSTONE/lib/python3.7/site-packages (4.8.1)\nRequirement already satisfied: soupsieve>=1.2 in /home/kuliza-472/anaconda3/envs/IBM-CAPSTONE/lib/python3.7/site-packages (from beautifulsoup4) (1.9.3)\nRequirement already satisfied: geocoder in /home/kuliza-472/anaconda3/envs/IBM-CAPSTONE/lib/python3.7/site-packages (1.38.1)\nRequirement already satisfied: ratelim in /home/kuliza-472/anaconda3/envs/IBM-CAPSTONE/lib/python3.7/site-packages (from geocoder) (0.1.6)\nRequirement already satisfied: click in /home/kuliza-472/anaconda3/envs/IBM-CAPSTONE/lib/python3.7/site-packages (from geocoder) (7.0)\nRequirement already satisfied: future in /home/kuliza-472/anaconda3/envs/IBM-CAPSTONE/lib/python3.7/site-packages (from geocoder) (0.18.2)\nRequirement already satisfied: requests in /home/kuliza-472/anaconda3/envs/IBM-CAPSTONE/lib/python3.7/site-packages (from geocoder) (2.22.0)\nRequirement already satisfied: six in /home/kuliza-472/anaconda3/envs/IBM-CAPSTONE/lib/python3.7/site-packages (from geocoder) (1.12.0)\nRequirement already satisfied: decorator in /home/kuliza-472/anaconda3/envs/IBM-CAPSTONE/lib/python3.7/site-packages (from ratelim->geocoder) (4.4.1)\nRequirement already satisfied: chardet<3.1.0,>=3.0.2 in /home/kuliza-472/anaconda3/envs/IBM-CAPSTONE/lib/python3.7/site-packages (from requests->geocoder) (3.0.4)\nRequirement already satisfied: certifi>=2017.4.17 in /home/kuliza-472/anaconda3/envs/IBM-CAPSTONE/lib/python3.7/site-packages (from requests->geocoder) (2019.9.11)\nRequirement already satisfied: idna<2.9,>=2.5 in /home/kuliza-472/anaconda3/envs/IBM-CAPSTONE/lib/python3.7/site-packages (from requests->geocoder) (2.8)\nRequirement already satisfied: urllib3!=1.25.0,!=1.25.1,<1.26,>=1.21.1 in /home/kuliza-472/anaconda3/envs/IBM-CAPSTONE/lib/python3.7/site-packages (from requests->geocoder) (1.24.2)\nRequirement already satisfied: folium in /home/kuliza-472/anaconda3/envs/IBM-CAPSTONE/lib/python3.7/site-packages (0.10.0)\nRequirement already satisfied: requests in /home/kuliza-472/anaconda3/envs/IBM-CAPSTONE/lib/python3.7/site-packages (from folium) (2.22.0)\nRequirement already satisfied: numpy in /home/kuliza-472/anaconda3/envs/IBM-CAPSTONE/lib/python3.7/site-packages (from folium) (1.17.2)\nRequirement already satisfied: jinja2>=2.9 in /home/kuliza-472/anaconda3/envs/IBM-CAPSTONE/lib/python3.7/site-packages (from folium) (2.10.3)\nRequirement already satisfied: branca>=0.3.0 in /home/kuliza-472/anaconda3/envs/IBM-CAPSTONE/lib/python3.7/site-packages (from folium) (0.3.1)\nRequirement already satisfied: chardet<3.1.0,>=3.0.2 in /home/kuliza-472/anaconda3/envs/IBM-CAPSTONE/lib/python3.7/site-packages (from requests->folium) (3.0.4)\nRequirement already satisfied: idna<2.9,>=2.5 in /home/kuliza-472/anaconda3/envs/IBM-CAPSTONE/lib/python3.7/site-packages (from requests->folium) (2.8)\nRequirement already satisfied: urllib3!=1.25.0,!=1.25.1,<1.26,>=1.21.1 in /home/kuliza-472/anaconda3/envs/IBM-CAPSTONE/lib/python3.7/site-packages (from requests->folium) (1.24.2)\nRequirement already satisfied: certifi>=2017.4.17 in /home/kuliza-472/anaconda3/envs/IBM-CAPSTONE/lib/python3.7/site-packages (from requests->folium) (2019.9.11)\nRequirement already satisfied: MarkupSafe>=0.23 in /home/kuliza-472/anaconda3/envs/IBM-CAPSTONE/lib/python3.7/site-packages (from jinja2>=2.9->folium) (1.1.1)\nRequirement already satisfied: six in /home/kuliza-472/anaconda3/envs/IBM-CAPSTONE/lib/python3.7/site-packages (from branca>=0.3.0->folium) (1.12.0)\n"
    }
   ],
   "source": [
    "# installing dependencies\n",
    "!pip install beautifulsoup4\n",
    "!pip install geocoder\n",
    "!pip install folium\n",
    "\n",
    "# importing dependencies\n",
    "import requests\n",
    "from bs4 import BeautifulSoup\n",
    "import pandas as pd\n",
    "import folium"
   ]
  },
  {
   "cell_type": "markdown",
   "execution_count": null,
   "metadata": {},
   "outputs": [],
   "source": [
    "scraping data required from webpage"
   ]
  },
  {
   "cell_type": "code",
   "execution_count": 3,
   "metadata": {},
   "outputs": [],
   "source": [
    "page = requests.get(\"https://www.indiatvnews.com/pincode/karnataka/bangalore\")\n",
    "soup = BeautifulSoup(page.content, 'html.parser')\n",
    "table = soup.find('table', class_='alt')\n",
    "table_rows = table.find_all('tr')"
   ]
  },
  {
   "cell_type": "markdown",
   "execution_count": null,
   "metadata": {},
   "outputs": [],
   "source": [
    "Converting scraped data into dataframe"
   ]
  },
  {
   "cell_type": "code",
   "execution_count": 4,
   "metadata": {},
   "outputs": [],
   "source": [
    "# this array will hold the table data\n",
    "temp = []\n",
    "\n",
    "# adding invidual subarrays for each table array\n",
    "for tr in table_rows:\n",
    "    td = tr.find_all('td')\n",
    "    row = [d.text.strip() for d in td]\n",
    "    \n",
    "    if row and row[1] != \"NA\":\n",
    "        temp.append(row)"
   ]
  },
  {
   "cell_type": "markdown",
   "execution_count": 8,
   "metadata": {},
   "outputs": [
    {
     "ename": "SyntaxError",
     "evalue": "invalid syntax (<ipython-input-8-c34900308d1f>, line 1)",
     "output_type": "error",
     "traceback": [
      "\u001b[0;36m  File \u001b[0;32m\"<ipython-input-8-c34900308d1f>\"\u001b[0;36m, line \u001b[0;32m1\u001b[0m\n\u001b[0;31m    converting array with stored data into dataframe\u001b[0m\n\u001b[0m                   ^\u001b[0m\n\u001b[0;31mSyntaxError\u001b[0m\u001b[0;31m:\u001b[0m invalid syntax\n"
     ]
    }
   ],
   "source": [
    "converting array with stored data into dataframe"
   ]
  },
  {
   "cell_type": "code",
   "execution_count": 5,
   "metadata": {},
   "outputs": [
    {
     "name": "stdout",
     "output_type": "stream",
     "text": "(259, 3)\n            Neighbourhood          Borough Pincode\n1                   Agram  Bangalore South  560007\n2      Air Force Hospital  Bangalore North  560007\n3            Amruthahalli  Bangalore North  560092\n4    Anandnagar Bangalore  Bangalore North  560024\n5          Arabic College  Bangalore North  560045\n..                    ...              ...     ...\n255  Tavarekere Bangalore   Bangaloresouth  562130\n256   Thammanayakanahalli           Anekal  562106\n257         Vanakanahalli           Anekal  562106\n258           Vidyanagara         Bg North  562157\n259         Yadavanahalli           Anekal  562107\n\n[259 rows x 3 columns]\n"
    }
   ],
   "source": [
    "# creating dataframe out of mentioned array\n",
    "df = pd.DataFrame(data=temp, columns=['Neighbourhood', 'Borough', 'District', 'State', 'Pincode'])\n",
    "df = df.drop(['District', 'State'], axis=1)\n",
    "df = df.iloc[1:]\n",
    "print(df.shape)\n",
    "print(df)"
   ]
  },
  {
   "cell_type": "markdown",
   "execution_count": null,
   "metadata": {},
   "outputs": [],
   "source": [
    "As certain Boroughs are misspelled so we will be correcting it in next step and then we will be choosing only 3 Boroughs to work on, i.e Bangalore South and North. Other Borough lies in outskirts of District"
   ]
  },
  {
   "cell_type": "code",
   "execution_count": 10,
   "metadata": {},
   "outputs": [
    {
     "name": "stdout",
     "output_type": "stream",
     "text": "Below show dataframe will be used for further research\n            Neighbourhood          Borough Pincode\n1                   Agram  Bangalore South  560007\n2      Air Force Hospital  Bangalore North  560007\n3            Amruthahalli  Bangalore North  560092\n4    Anandnagar Bangalore  Bangalore North  560024\n5          Arabic College  Bangalore North  560045\n..                    ...              ...     ...\n244                Kannur  Bangalore North  562149\n246     Madanayakanahalli  Bangalore North  562162\n254            Tarahunise  Bangalore North  562157\n255  Tavarekere Bangalore  Bangalore South  562130\n258           Vidyanagara  Bangalore North  562157\n\n[220 rows x 3 columns]\n"
    }
   ],
   "source": [
    "df['Borough'] = df['Borough'].replace(['Bangalore North', 'Bangalore north', 'Banglorenorth', 'Bg North', 'Bgnorth'], 'Bangalore North')\n",
    "\n",
    "df['Borough'] = df['Borough'].replace(['Bangalore South', 'Bangaloresouth', 'Bg South', 'Bgsouth', 'Nla & Bgsouth'], 'Bangalore South')\n",
    "\n",
    "df['Borough'] = df['Borough'].replace(['Bangalore', 'Banglore'], 'Bangalore')\n",
    "\n",
    "df = df[df['Borough'].isin([\"Bangalore South\", \"Bangalore North\"])]\n",
    "\n",
    "df_dummy = df\n",
    "\n",
    "print(\"Below show dataframe will be used for further research\")\n",
    "print(df)"
   ]
  },
  {
   "cell_type": "code",
   "execution_count": null,
   "metadata": {},
   "outputs": [],
   "source": []
  }
 ]
}