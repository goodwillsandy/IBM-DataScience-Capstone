{
 "nbformat": 4,
 "nbformat_minor": 2,
 "metadata": {
  "language_info": {
   "name": "python",
   "codemirror_mode": {
    "name": "ipython",
    "version": 3
   }
  },
  "orig_nbformat": 2,
  "file_extension": ".py",
  "mimetype": "text/x-python",
  "name": "python",
  "npconvert_exporter": "python",
  "pygments_lexer": "ipython3",
  "version": 3
 },
 "cells": [
  {
   "cell_type": "markdown",
   "execution_count": null,
   "metadata": {},
   "outputs": [],
   "source": [
    "# Peer-graded Assignment: Segmenting and Clustering Neighborhoods in Toronto\n"
   ]
  },
  {
   "cell_type": "markdown",
   "execution_count": null,
   "metadata": {},
   "outputs": [],
   "source": [
    "## step 1\n",
    "Installing dependencies "
   ]
  },
  {
   "cell_type": "code",
   "execution_count": 2,
   "metadata": {},
   "outputs": [
    {
     "name": "stdout",
     "output_type": "stream",
     "text": "Requirement already satisfied: beautifulsoup4 in /home/kuliza-472/anaconda3/envs/IBM-CAPSTONE/lib/python3.7/site-packages (4.8.1)\nRequirement already satisfied: soupsieve>=1.2 in /home/kuliza-472/anaconda3/envs/IBM-CAPSTONE/lib/python3.7/site-packages (from beautifulsoup4) (1.9.3)\n"
    }
   ],
   "source": [
    "!pip install beautifulsoup4\n",
    "import requests\n",
    "from bs4 import BeautifulSoup\n",
    "import pandas as pd"
   ]
  },
  {
   "cell_type": "markdown",
   "execution_count": null,
   "metadata": {},
   "outputs": [],
   "source": [
    "Scraping required data from webpage"
   ]
  },
  {
   "cell_type": "code",
   "execution_count": 3,
   "metadata": {},
   "outputs": [],
   "source": [
    "page = requests.get(\"https://en.wikipedia.org/wiki/List_of_postal_codes_of_Canada:_M\")\n",
    "soup = BeautifulSoup(page.content, 'html.parser')\n",
    "table = soup.find('table', class_='wikitable')\n",
    "table_rows = table.find_all('tr')"
   ]
  },
  {
   "cell_type": "markdown",
   "execution_count": null,
   "metadata": {},
   "outputs": [],
   "source": []
  },
  {
   "cell_type": "markdown",
   "execution_count": 38,
   "metadata": {},
   "outputs": [
    {
     "ename": "SyntaxError",
     "evalue": "invalid syntax (<ipython-input-38-7397e0f5eb5a>, line 1)",
     "output_type": "error",
     "traceback": [
      "\u001b[0;36m  File \u001b[0;32m\"<ipython-input-38-7397e0f5eb5a>\"\u001b[0;36m, line \u001b[0;32m1\u001b[0m\n\u001b[0;31m    converting scraped data into padas dataframe\u001b[0m\n\u001b[0m                     ^\u001b[0m\n\u001b[0;31mSyntaxError\u001b[0m\u001b[0;31m:\u001b[0m invalid syntax\n"
     ]
    }
   ],
   "source": [
    "converting scraped data into padas dataframe"
   ]
  },
  {
   "cell_type": "code",
   "execution_count": 66,
   "metadata": {},
   "outputs": [],
   "source": [
    "# this array will hold the table data\n",
    "temp = []\n",
    "\n",
    "# adding invidual subarrays for each table array\n",
    "for tr in table_rows:\n",
    "    td = tr.find_all('td')\n",
    "    row = [d.text.strip() for d in td]\n",
    "\n",
    "    # excluding rows whose borough is not assigned\n",
    "    if row and row[1] != 'Not assigned':\n",
    "        # in case post code don't have neighbourhood assigned\n",
    "        if row[2] == 'Not assigned':\n",
    "            row[2] = row[1]\n",
    "        temp.append(row)"
   ]
  },
  {
   "cell_type": "markdown",
   "execution_count": null,
   "metadata": {},
   "outputs": [],
   "source": [
    "converting array with stored data into dataframe"
   ]
  },
  {
   "cell_type": "code",
   "execution_count": 104,
   "metadata": {},
   "outputs": [
    {
     "name": "stdout",
     "output_type": "stream",
     "text": "(211, 3)\n                   Borough                                      Neighbourhood\nPostcode                                                                     \nM3A             North York                                          Parkwoods\nM4A             North York                                   Victoria Village\nM5A       Downtown Toronto                           Harbourfront,Regent Park\nM6A             North York                    Lawrence Heights,Lawrence Manor\nM7A           Queen's Park                                       Queen's Park\n...                    ...                                                ...\nM8X              Etobicoke        The Kingsway,Montgomery Road,Old Mill North\nM4Y       Downtown Toronto                               Church and Wellesley\nM7Y           East Toronto  Business Reply Mail Processing Centre 969 Eastern\nM8Y              Etobicoke  Humber Bay,King's Mill Park,Kingsway Park Sout...\nM8Z              Etobicoke  Kingsway Park South West,Mimico NW,The Queensw...\n\n[103 rows x 2 columns]\n"
    }
   ],
   "source": [
    "# creating dataframe out of mentioned array\n",
    "df = pd.DataFrame(data=temp, columns=['Postcode', 'Borough', 'Neighbourhood'])\n",
    "print(df.shape)\n",
    "# creating temporary data frame of neighbourhood seprated by comma's for each postcode\n",
    "tempNeighbourhoodDf =df.groupby('Postcode')['Neighbourhood'].apply(','.join).reset_index().set_index('Postcode')\n",
    "\n",
    "#droping rows and joining above dataframes \n",
    "df = df.drop('Neighbourhood', axis=1).drop_duplicates().set_index('Postcode')\n",
    "df = df.join(tempNeighbourhoodDf)\n",
    "print(df)"
   ]
  },
  {
   "cell_type": "markdown",
   "execution_count": null,
   "metadata": {},
   "outputs": [],
   "source": [
    "### shape of final dataframe    "
   ]
  },
  {
   "cell_type": "code",
   "execution_count": 107,
   "metadata": {},
   "outputs": [
    {
     "name": "stdout",
     "output_type": "stream",
     "text": "Shape of final data frame (103, 2)\n"
    }
   ],
   "source": [
    "# i have made Postcode as my index, that's why i get two rows count in shape of column\n",
    "print(\"Shape of final data frame\", df.shape)"
   ]
  },
  {
   "cell_type": "code",
   "execution_count": null,
   "metadata": {},
   "outputs": [],
   "source": []
  }
 ]
}